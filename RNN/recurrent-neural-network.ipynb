{
  "nbformat": 4,
  "nbformat_minor": 0,
  "metadata": {
    "colab": {
      "name": "RNN.ipynb",
      "provenance": [],
      "collapsed_sections": []
    },
    "kernelspec": {
      "name": "python3",
      "display_name": "Python 3"
    },
    "accelerator": "GPU"
  },
  "cells": [
    {
      "cell_type": "markdown",
      "metadata": {
        "id": "dFcylnLWaRBG",
        "colab_type": "text"
      },
      "source": [
        "# Recurrent Neural Network\n",
        "\n",
        "- RNN은 순서가 있는 데이터를 입력으로 받고, 같은 네트워크를 이용하여 변화하는 입력에 대한 출력을 얻어낸다.\n",
        "\n",
        "- 음악, 자연어, 날씨, 주가 등의 시간의 흐름에 따라 변화하고 그 변화가 의미를 갖는 데이터\n",
        "\n",
        "- RNN의 구조\n",
        "\n",
        "![RNN Architecture](https://img1.daumcdn.net/thumb/R720x0.q80/?scode=mtistory2&fname=http%3A%2F%2Fcfile23.uf.tistory.com%2Fimage%2F2578204757AC186F2A70DC)\n",
        "\n",
        "- 일반적인 DNN Architecture와 같이 입력 X를 받아서 출력 Y를 반환하는 것은 동일하지만, 되먹임 구조를 가지고있다.\n",
        "\n",
        "- 하지만, 그림처럼 입력이 X0, X1, X2, ... 와 같이 변할 때, 같은 네트워크를 사용하여 출력 H0, H1, H2, ... 를 반환하고 있는 것을 볼 수 있다.\n",
        "\n",
        "- 중요한 것은 출력 값이 다음 입력을 받을 때의 RNN 네트워크에 동일하게 전달되고 있다는 것.\n",
        "\n",
        "- 입력과 출력의 길이에 제한이 없으며, 다양한 형태의 네트워크를 만드는 것이 가능하다.\n",
        "\n",
        "![RNN의 다양한 형태](https://discuss.pytorch.org/uploads/default/6415da0424dd66f2f5b134709b92baa59e604c55)\n",
        "\n",
        "- RNN의 다양한 형태\n",
        "\n",
        "  - One to One\n",
        "    \n",
        "    - RNN\n",
        "    \n",
        "  - One to Many\n",
        "\n",
        "    - Image Captioning\n",
        "\n",
        "  - Many to One\n",
        "\n",
        "    - Sentiment Classification\n",
        "\n",
        "  - Many to Many\n",
        "\n",
        "    - Machine Translation\n",
        "\n",
        "    - Video Classification (Frame Level)"
      ]
    },
    {
      "cell_type": "markdown",
      "metadata": {
        "id": "fTvzUVYocQuG",
        "colab_type": "text"
      },
      "source": [
        "# RNN의 Layer\n",
        "\n",
        "### Simple RNN\n",
        "\n",
        "- RNN의 가장 간단한 형태의 레이어\n",
        "\n",
        "- 아래 그림과 같으며, Activation Function으로 tanh를 사용한다.\n",
        "\n",
        "![Simple RNN](https://miro.medium.com/max/1512/1*HRuDxU1i4JNu-Ywt88LnaQ.png)\n",
        "\n",
        "![RNN의 수식](https://cdn-images-1.medium.com/max/1000/1*uubYiUNDmhmR5KOPdJKYtQ.png)\n"
      ]
    },
    {
      "cell_type": "code",
      "metadata": {
        "id": "glNj2rvtZ1W1",
        "colab_type": "code",
        "colab": {
          "base_uri": "https://localhost:8080/",
          "height": 64
        },
        "outputId": "35a752c9-9d58-475c-b087-8247997d233c"
      },
      "source": [
        "# Simple RNN은 keras에서 한줄 구현이 가능하다.\n",
        "import tensorflow as tf\n",
        "\n",
        "# return_sequences : 출력으로 시퀀스 전체를 출력할 것인가?\n",
        "rnn1 = tf.keras.layers.SimpleRNN(units=1, activation='tanh', return_sequences=True)"
      ],
      "execution_count": 1,
      "outputs": [
        {
          "output_type": "display_data",
          "data": {
            "text/html": [
              "<p style=\"color: red;\">\n",
              "The default version of TensorFlow in Colab will switch to TensorFlow 2.x on the 27th of March, 2020.<br>\n",
              "We recommend you <a href=\"https://www.tensorflow.org/guide/migrate\" target=\"_blank\">upgrade</a> now\n",
              "or ensure your notebook will continue to use TensorFlow 1.x via the <code>%tensorflow_version 1.x</code> magic:\n",
              "<a href=\"https://colab.research.google.com/notebooks/tensorflow_version.ipynb\" target=\"_blank\">more info</a>.</p>\n"
            ],
            "text/plain": [
              "<IPython.core.display.HTML object>"
            ]
          },
          "metadata": {
            "tags": []
          }
        }
      ]
    },
    {
      "cell_type": "code",
      "metadata": {
        "id": "a9XEvx_pdjd7",
        "colab_type": "code",
        "colab": {
          "base_uri": "https://localhost:8080/",
          "height": 449
        },
        "outputId": "39c488d8-c265-482f-e122-025282b537cd"
      },
      "source": [
        "import numpy as np\n",
        "X = []\n",
        "Y = []\n",
        "for i in range(6):\n",
        "  lst = list(range(i, i + 4))\n",
        "  X.append(list(map(lambda c: [c/10], lst)))\n",
        "  Y.append((i+4)/10)\n",
        "\n",
        "X = np.array(X)\n",
        "Y = np.array(Y)\n",
        "\n",
        "for i in range(len(X)):\n",
        "  print(X[i], Y[i])"
      ],
      "execution_count": 4,
      "outputs": [
        {
          "output_type": "stream",
          "text": [
            "[[0. ]\n",
            " [0.1]\n",
            " [0.2]\n",
            " [0.3]] 0.4\n",
            "[[0.1]\n",
            " [0.2]\n",
            " [0.3]\n",
            " [0.4]] 0.5\n",
            "[[0.2]\n",
            " [0.3]\n",
            " [0.4]\n",
            " [0.5]] 0.6\n",
            "[[0.3]\n",
            " [0.4]\n",
            " [0.5]\n",
            " [0.6]] 0.7\n",
            "[[0.4]\n",
            " [0.5]\n",
            " [0.6]\n",
            " [0.7]] 0.8\n",
            "[[0.5]\n",
            " [0.6]\n",
            " [0.7]\n",
            " [0.8]] 0.9\n"
          ],
          "name": "stdout"
        }
      ]
    },
    {
      "cell_type": "code",
      "metadata": {
        "id": "_MyWtsB1eEe9",
        "colab_type": "code",
        "colab": {
          "base_uri": "https://localhost:8080/",
          "height": 307
        },
        "outputId": "78ec5847-0eb7-4ddf-d931-153133340a30"
      },
      "source": [
        "# input_shape는 timesteps와 input_dim을 나타낸다.\n",
        "# timesteps는 RNN이 입력에 대해 계산을 반복하는 횟수이고, input_dim은 입력 벡터의 크기를 나타낸다.\n",
        "model = tf.keras.Sequential([\n",
        "    tf.keras.layers.SimpleRNN(units=10, return_sequences=False, input_shape=[4, 1]),\n",
        "    tf.keras.layers.Dense(1)\n",
        "])\n",
        "\n",
        "model.compile(optimizer='adam', loss='mse')\n",
        "model.summary()"
      ],
      "execution_count": 5,
      "outputs": [
        {
          "output_type": "stream",
          "text": [
            "WARNING:tensorflow:From /tensorflow-1.15.2/python3.6/tensorflow_core/python/ops/resource_variable_ops.py:1630: calling BaseResourceVariable.__init__ (from tensorflow.python.ops.resource_variable_ops) with constraint is deprecated and will be removed in a future version.\n",
            "Instructions for updating:\n",
            "If using Keras pass *_constraint arguments to layers.\n",
            "Model: \"sequential\"\n",
            "_________________________________________________________________\n",
            "Layer (type)                 Output Shape              Param #   \n",
            "=================================================================\n",
            "simple_rnn_1 (SimpleRNN)     (None, 10)                120       \n",
            "_________________________________________________________________\n",
            "dense (Dense)                (None, 1)                 11        \n",
            "=================================================================\n",
            "Total params: 131\n",
            "Trainable params: 131\n",
            "Non-trainable params: 0\n",
            "_________________________________________________________________\n"
          ],
          "name": "stdout"
        }
      ]
    },
    {
      "cell_type": "code",
      "metadata": {
        "id": "6hn6WBj3ecbs",
        "colab_type": "code",
        "colab": {
          "base_uri": "https://localhost:8080/",
          "height": 125
        },
        "outputId": "0d31e123-865f-46ed-acb1-9721e2455150"
      },
      "source": [
        "model.fit(X, Y, epochs=100, verbose=0)\n",
        "print(model.predict(X))"
      ],
      "execution_count": 6,
      "outputs": [
        {
          "output_type": "stream",
          "text": [
            "[[0.4127834 ]\n",
            " [0.5335896 ]\n",
            " [0.6340742 ]\n",
            " [0.7141707 ]\n",
            " [0.77536106]\n",
            " [0.81967306]]\n"
          ],
          "name": "stdout"
        }
      ]
    },
    {
      "cell_type": "code",
      "metadata": {
        "id": "guEmO3BsfEsH",
        "colab_type": "code",
        "colab": {
          "base_uri": "https://localhost:8080/",
          "height": 53
        },
        "outputId": "d910fe97-8bc0-4a50-e219-d2af3d96e090"
      },
      "source": [
        "print(model.predict(np.array([[[1.3], [1.4], [1.5], [1.6]]])))\n",
        "print(model.predict(np.array([[[-11.1], [-11.0], [-10.9], [-10.8]]])))"
      ],
      "execution_count": 9,
      "outputs": [
        {
          "output_type": "stream",
          "text": [
            "[[0.75223696]]\n",
            "[[1.8784832]]\n"
          ],
          "name": "stdout"
        }
      ]
    },
    {
      "cell_type": "markdown",
      "metadata": {
        "id": "8IZbteeufsCV",
        "colab_type": "text"
      },
      "source": [
        "- SimpleRNN Layer는 빠르게 모델을 만들어볼 때는 유용할 수 있다.\n",
        "\n",
        "- 하지만 실무에서는 SimpleRNN의 단점을 개선한 **LSTM**이나 **GRU** 레이어를 많이 쓴다."
      ]
    }
  ]
}