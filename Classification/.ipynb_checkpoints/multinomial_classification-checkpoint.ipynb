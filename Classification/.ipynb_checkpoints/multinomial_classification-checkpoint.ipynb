{
 "cells": [
  {
   "cell_type": "markdown",
   "metadata": {},
   "source": [
    "## Multinomial Classification\n",
    "\n",
    "- 한국 말로 다항 분류라고 하며, 단순하게 Binary Classification에서 class가 2개를 초과하는 경우의 분류이다.\n",
    "\n",
    "- 다시 Wine 데이터를 이용하여 와인의 품질을 예측해보자."
   ]
  },
  {
   "cell_type": "code",
   "execution_count": 3,
   "metadata": {},
   "outputs": [],
   "source": [
    "import pandas as pd\n",
    "red = pd.read_csv('http://archive.ics.uci.edu/ml/machine-learning-databases/wine-quality/winequality-red.csv', sep=';')\n",
    "white = pd.read_csv('http://archive.ics.uci.edu/ml/machine-learning-databases/wine-quality/winequality-white.csv', sep=';')\n",
    "\n",
    "red['type'] = 0\n",
    "white['type'] = 1\n",
    "\n",
    "wine = pd.concat([red, white])"
   ]
  },
  {
   "cell_type": "code",
   "execution_count": 4,
   "metadata": {},
   "outputs": [
    {
     "name": "stdout",
     "output_type": "stream",
     "text": [
      "count    6497.000000\n",
      "mean        5.818378\n",
      "std         0.873255\n",
      "min         3.000000\n",
      "25%         5.000000\n",
      "50%         6.000000\n",
      "75%         6.000000\n",
      "max         9.000000\n",
      "Name: quality, dtype: float64\n",
      "6    2836\n",
      "5    2138\n",
      "7    1079\n",
      "4     216\n",
      "8     193\n",
      "3      30\n",
      "9       5\n",
      "Name: quality, dtype: int64\n"
     ]
    }
   ],
   "source": [
    "print(wine['quality'].describe())\n",
    "print(wine['quality'].value_counts())"
   ]
  },
  {
   "cell_type": "markdown",
   "metadata": {},
   "source": [
    "- bins\n",
    "\n",
    "> If an integer is given, bins + 1 bin edges are calculated and returned, consistent with numpy.histogram.  If bins is a sequence, gives bin edges, including left edge of first bin and right edge of last bin. In this case, bins is returned unmodified.\n",
    "\n",
    "- rwidth\n",
    "\n",
    "> The relative width of the bars as a fraction of the bin width. If None, automatically compute the width.  \n",
    "Ignored if histtype is 'step' or 'stepfilled'.  \n",
    "Default is None"
   ]
  },
  {
   "cell_type": "code",
   "execution_count": 8,
   "metadata": {},
   "outputs": [
    {
     "data": {
      "image/png": "[encoded data removed]",
      "text/plain": [
       "<Figure size 432x288 with 1 Axes>"
      ]
     },
     "metadata": {
      "needs_background": "light"
     },
     "output_type": "display_data"
    }
   ],
   "source": [
    "import matplotlib.pyplot as plt\n",
    "plt.hist(wine['quality'], bins=7, rwidth=0.8)\n",
    "plt.show()"
   ]
  },
  {
   "cell_type": "code",
   "execution_count": 9,
   "metadata": {},
   "outputs": [
    {
     "name": "stdout",
     "output_type": "stream",
     "text": [
      "count    6497.000000\n",
      "mean        0.829614\n",
      "std         0.731124\n",
      "min         0.000000\n",
      "25%         0.000000\n",
      "50%         1.000000\n",
      "75%         1.000000\n",
      "max         2.000000\n",
      "Name: new_quality, dtype: float64\n",
      "1.0    2836\n",
      "0.0    2384\n",
      "2.0    1277\n",
      "Name: new_quality, dtype: int64\n"
     ]
    }
   ],
   "source": [
    "# 데이터의 양이 적고, 범주의 수가 너무 많으며, 각 데이터의 숫자가 차이나기 때문에, 범주를 크게 세가지로 분류한다.\n",
    "# loc은 특정한 데이터의 인덱스를 골라내는 역할을 하며, 쉼표가 들어가면 차례대로 행, 열을 의미한다.\n",
    "wine.loc[wine['quality'] <= 5, 'new_quality'] = 0\n",
    "wine.loc[wine['quality'] == 6, 'new_quality'] = 1\n",
    "wine.loc[wine['quality'] >= 7, 'new_quality'] = 2\n",
    "\n",
    "print(wine['new_quality'].describe())\n",
    "print(wine['new_quality'].value_counts())"
   ]
  },
  {
   "cell_type": "code",
   "execution_count": 10,
   "metadata": {},
   "outputs": [
    {
     "name": "stdout",
     "output_type": "stream",
     "text": [
      "     Fruit  Count\n",
      "0    Apple     11\n",
      "1   Banana     23\n",
      "2  Coconut     35\n",
      "\n",
      "Fruit    Apple\n",
      "Count       11\n",
      "Name: 0, dtype: object\n",
      "\n",
      "Apple\n"
     ]
    }
   ],
   "source": [
    "data = [['Apple', 11], ['Banana', 23], ['Coconut', 35]]\n",
    "df = pd.DataFrame(data, columns=['Fruit', 'Count'])\n",
    "print(df)\n",
    "print()\n",
    "print(df.loc[0])\n",
    "print()\n",
    "print(df.loc[0, 'Fruit'])"
   ]
  },
  {
   "cell_type": "code",
   "execution_count": 12,
   "metadata": {},
   "outputs": [
    {
     "data": {
      "text/html": [
       "<div>\n",
       "<style scoped>\n",
       "    .dataframe tbody tr th:only-of-type {\n",
       "        vertical-align: middle;\n",
       "    }\n",
       "\n",
       "    .dataframe tbody tr th {\n",
       "        vertical-align: top;\n",
       "    }\n",
       "\n",
       "    .dataframe thead th {\n",
       "        text-align: right;\n",
       "    }\n",
       "</style>\n",
       "<table border=\"1\" class=\"dataframe\">\n",
       "  <thead>\n",
       "    <tr style=\"text-align: right;\">\n",
       "      <th></th>\n",
       "      <th>Fruit</th>\n",
       "      <th>Count</th>\n",
       "    </tr>\n",
       "  </thead>\n",
       "  <tbody>\n",
       "    <tr>\n",
       "      <th>0</th>\n",
       "      <td>Apple</td>\n",
       "      <td>11</td>\n",
       "    </tr>\n",
       "  </tbody>\n",
       "</table>\n",
       "</div>"
      ],
      "text/plain": [
       "   Fruit  Count\n",
       "0  Apple     11"
      ]
     },
     "execution_count": 12,
     "metadata": {},
     "output_type": "execute_result"
    }
   ],
   "source": [
    "df.loc[df['Fruit'] == 'Apple']"
   ]
  },
  {
   "cell_type": "code",
   "execution_count": 13,
   "metadata": {},
   "outputs": [],
   "source": [
    "import tensorflow as tf\n",
    "del wine['quality']\n",
    "wine_norm = (wine - wine.min()) / (wine.max() - wine.min())\n",
    "wine_shuffle = wine_norm.sample(frac=1)\n",
    "wine_np = wine_shuffle.to_numpy()\n",
    "\n",
    "train_idx = int(len(wine_np) * 0.8)\n",
    "train_X, train_Y = wine_np[:train_idx, :-1], wine_np[:train_idx, -1]\n",
    "test_X, test_Y = wine_np[train_idx:, :-1], wine_np[train_idx:, -1]\n",
    "\n",
    "train_Y = tf.keras.utils.to_categorical(train_Y, num_classes=3)\n",
    "test_Y = tf.keras.utils.to_categorical(test_Y, num_classes=3)"
   ]
  },
  {
   "cell_type": "code",
   "execution_count": 14,
   "metadata": {},
   "outputs": [
    {
     "name": "stdout",
     "output_type": "stream",
     "text": [
      "Train on 3897 samples, validate on 1300 samples\n",
      "Epoch 1/25\n",
      "3897/3897 [==============================] - 0s 89us/sample - loss: 0.4886 - accuracy: 0.7898 - val_loss: 0.4507 - val_accuracy: 0.7908\n",
      "Epoch 2/25\n",
      "3897/3897 [==============================] - 0s 28us/sample - loss: 0.4585 - accuracy: 0.8014 - val_loss: 0.4344 - val_accuracy: 0.7908\n",
      "Epoch 3/25\n",
      "3897/3897 [==============================] - 0s 28us/sample - loss: 0.4154 - accuracy: 0.8029 - val_loss: 0.4322 - val_accuracy: 0.7877\n",
      "Epoch 4/25\n",
      "3897/3897 [==============================] - 0s 28us/sample - loss: 0.4375 - accuracy: 0.7957 - val_loss: 0.4318 - val_accuracy: 0.7908\n",
      "Epoch 5/25\n",
      "3897/3897 [==============================] - 0s 27us/sample - loss: 0.4213 - accuracy: 0.7975 - val_loss: 0.4529 - val_accuracy: 0.7908\n",
      "Epoch 6/25\n",
      "3897/3897 [==============================] - 0s 30us/sample - loss: 0.4167 - accuracy: 0.8052 - val_loss: 0.5011 - val_accuracy: 0.7100\n",
      "Epoch 7/25\n",
      "3897/3897 [==============================] - 0s 28us/sample - loss: 0.4132 - accuracy: 0.8019 - val_loss: 0.4425 - val_accuracy: 0.7908\n",
      "Epoch 8/25\n",
      "3897/3897 [==============================] - 0s 27us/sample - loss: 0.4050 - accuracy: 0.7998 - val_loss: 0.4265 - val_accuracy: 0.8062\n",
      "Epoch 9/25\n",
      "3897/3897 [==============================] - 0s 27us/sample - loss: 0.3976 - accuracy: 0.8088 - val_loss: 0.4281 - val_accuracy: 0.8192\n",
      "Epoch 10/25\n",
      "3897/3897 [==============================] - 0s 27us/sample - loss: 0.4021 - accuracy: 0.8163 - val_loss: 0.4107 - val_accuracy: 0.8115\n",
      "Epoch 11/25\n",
      "3897/3897 [==============================] - 0s 28us/sample - loss: 0.4121 - accuracy: 0.8040 - val_loss: 0.4457 - val_accuracy: 0.7908\n",
      "Epoch 12/25\n",
      "3897/3897 [==============================] - 0s 28us/sample - loss: 0.4047 - accuracy: 0.8101 - val_loss: 0.4328 - val_accuracy: 0.8085\n",
      "Epoch 13/25\n",
      "3897/3897 [==============================] - 0s 28us/sample - loss: 0.3990 - accuracy: 0.8029 - val_loss: 0.4182 - val_accuracy: 0.7977\n",
      "Epoch 14/25\n",
      "3897/3897 [==============================] - 0s 28us/sample - loss: 0.3966 - accuracy: 0.8096 - val_loss: 0.4182 - val_accuracy: 0.7908\n",
      "Epoch 15/25\n",
      "3897/3897 [==============================] - 0s 27us/sample - loss: 0.4013 - accuracy: 0.8086 - val_loss: 0.4227 - val_accuracy: 0.7969\n",
      "Epoch 16/25\n",
      "3897/3897 [==============================] - 0s 28us/sample - loss: 0.4015 - accuracy: 0.8188 - val_loss: 0.4263 - val_accuracy: 0.8115\n",
      "Epoch 17/25\n",
      "3897/3897 [==============================] - 0s 27us/sample - loss: 0.4000 - accuracy: 0.8193 - val_loss: 0.4215 - val_accuracy: 0.8069\n",
      "Epoch 18/25\n",
      "3897/3897 [==============================] - 0s 27us/sample - loss: 0.3974 - accuracy: 0.8122 - val_loss: 0.4476 - val_accuracy: 0.8069\n",
      "Epoch 19/25\n",
      "3897/3897 [==============================] - 0s 27us/sample - loss: 0.3978 - accuracy: 0.8183 - val_loss: 0.4203 - val_accuracy: 0.8085\n",
      "Epoch 20/25\n",
      "3897/3897 [==============================] - 0s 29us/sample - loss: 0.4026 - accuracy: 0.8237 - val_loss: 0.4221 - val_accuracy: 0.8115\n",
      "Epoch 21/25\n",
      "3897/3897 [==============================] - 0s 29us/sample - loss: 0.4054 - accuracy: 0.8186 - val_loss: 0.4081 - val_accuracy: 0.8154\n",
      "Epoch 22/25\n",
      "3897/3897 [==============================] - 0s 29us/sample - loss: 0.3978 - accuracy: 0.8181 - val_loss: 0.4277 - val_accuracy: 0.7931\n",
      "Epoch 23/25\n",
      "3897/3897 [==============================] - 0s 28us/sample - loss: 0.4048 - accuracy: 0.8137 - val_loss: 0.4139 - val_accuracy: 0.8046\n",
      "Epoch 24/25\n",
      "3897/3897 [==============================] - 0s 27us/sample - loss: 0.4027 - accuracy: 0.8186 - val_loss: 0.4345 - val_accuracy: 0.8138\n",
      "Epoch 25/25\n",
      "3897/3897 [==============================] - 0s 27us/sample - loss: 0.4025 - accuracy: 0.8140 - val_loss: 0.4189 - val_accuracy: 0.8015\n"
     ]
    }
   ],
   "source": [
    "model = tf.keras.Sequential([\n",
    "    tf.keras.layers.Dense(units=48, activation='relu', input_shape=(12,)),\n",
    "    tf.keras.layers.Dense(units=24, activation='relu'),\n",
    "    tf.keras.layers.Dense(units=12, activation='relu'),\n",
    "    tf.keras.layers.Dense(units=3, activation='softmax')\n",
    "])\n",
    "\n",
    "model.compile(optimizer=tf.keras.optimizers.Adam(lr=0.07), loss='categorical_crossentropy', metrics=['accuracy'])\n",
    "\n",
    "history = model.fit(train_X, train_Y, epochs=25, batch_size=32, validation_split=0.25)"
   ]
  },
  {
   "cell_type": "code",
   "execution_count": 15,
   "metadata": {},
   "outputs": [
    {
     "data": {
      "image/png": "[encoded data removed]",
      "text/plain": [
       "<Figure size 864x288 with 2 Axes>"
      ]
     },
     "metadata": {
      "needs_background": "light"
     },
     "output_type": "display_data"
    }
   ],
   "source": [
    "import matplotlib.pyplot as plt\n",
    "plt.figure(figsize=(12, 4))\n",
    "\n",
    "plt.subplot(1, 2, 1)\n",
    "plt.plot(history.history['loss'], 'b-', label='loss')\n",
    "plt.plot(history.history['val_loss'], 'r--', label='val_loss')\n",
    "plt.xlabel('Epoch')\n",
    "plt.legend()\n",
    "\n",
    "plt.subplot(1, 2, 2)\n",
    "plt.plot(history.history['accuracy'], 'g-', label='accuracy')\n",
    "plt.plot(history.history['val_accuracy'], 'k--', label='val_accuracy')\n",
    "plt.xlabel('Epoch')\n",
    "plt.ylim(0.7, 1)\n",
    "plt.legend()\n",
    "\n",
    "plt.show()"
   ]
  },
  {
   "cell_type": "code",
   "execution_count": 16,
   "metadata": {},
   "outputs": [
    {
     "name": "stdout",
     "output_type": "stream",
     "text": [
      "1300/1300 [==============================] - 0s 16us/sample - loss: 0.3992 - accuracy: 0.8146\n"
     ]
    },
    {
     "data": {
      "text/plain": [
       "[0.3992458219711597, 0.81461537]"
      ]
     },
     "execution_count": 16,
     "metadata": {},
     "output_type": "execute_result"
    }
   ],
   "source": [
    "model.evaluate(test_X, test_Y)"
   ]
  }
 ],
 "metadata": {
  "kernelspec": {
   "display_name": "Python 3",
   "language": "python",
   "name": "python3"
  },
  "language_info": {
   "codemirror_mode": {
    "name": "ipython",
    "version": 3
   },
   "file_extension": ".py",
   "mimetype": "text/x-python",
   "name": "python",
   "nbconvert_exporter": "python",
   "pygments_lexer": "ipython3",
   "version": "3.7.6"
  }
 },
 "nbformat": 4,
 "nbformat_minor": 4
}
