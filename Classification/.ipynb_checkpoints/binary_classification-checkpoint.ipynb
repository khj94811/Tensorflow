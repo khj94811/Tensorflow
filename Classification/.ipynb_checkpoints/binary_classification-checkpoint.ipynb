{
 "cells": [
  {
   "cell_type": "markdown",
   "metadata": {},
   "source": [
    "# Wine Dataset을 이용한 Binary Classification\n",
    "\n",
    "- http://archive.ics.uci.edu/ml/machine-learning-databases/wine-quality"
   ]
  },
  {
   "cell_type": "code",
   "execution_count": 1,
   "metadata": {},
   "outputs": [
    {
     "name": "stdout",
     "output_type": "stream",
     "text": [
      "   fixed acidity  volatile acidity  citric acid  residual sugar  chlorides  \\\n",
      "0            7.4              0.70         0.00             1.9      0.076   \n",
      "1            7.8              0.88         0.00             2.6      0.098   \n",
      "2            7.8              0.76         0.04             2.3      0.092   \n",
      "3           11.2              0.28         0.56             1.9      0.075   \n",
      "4            7.4              0.70         0.00             1.9      0.076   \n",
      "\n",
      "   free sulfur dioxide  total sulfur dioxide  density    pH  sulphates  \\\n",
      "0                 11.0                  34.0   0.9978  3.51       0.56   \n",
      "1                 25.0                  67.0   0.9968  3.20       0.68   \n",
      "2                 15.0                  54.0   0.9970  3.26       0.65   \n",
      "3                 17.0                  60.0   0.9980  3.16       0.58   \n",
      "4                 11.0                  34.0   0.9978  3.51       0.56   \n",
      "\n",
      "   alcohol  quality  \n",
      "0      9.4        5  \n",
      "1      9.8        5  \n",
      "2      9.8        5  \n",
      "3      9.8        6  \n",
      "4      9.4        5  \n",
      "   fixed acidity  volatile acidity  citric acid  residual sugar  chlorides  \\\n",
      "0            7.0              0.27         0.36            20.7      0.045   \n",
      "1            6.3              0.30         0.34             1.6      0.049   \n",
      "2            8.1              0.28         0.40             6.9      0.050   \n",
      "3            7.2              0.23         0.32             8.5      0.058   \n",
      "4            7.2              0.23         0.32             8.5      0.058   \n",
      "\n",
      "   free sulfur dioxide  total sulfur dioxide  density    pH  sulphates  \\\n",
      "0                 45.0                 170.0   1.0010  3.00       0.45   \n",
      "1                 14.0                 132.0   0.9940  3.30       0.49   \n",
      "2                 30.0                  97.0   0.9951  3.26       0.44   \n",
      "3                 47.0                 186.0   0.9956  3.19       0.40   \n",
      "4                 47.0                 186.0   0.9956  3.19       0.40   \n",
      "\n",
      "   alcohol  quality  \n",
      "0      8.8        6  \n",
      "1      9.5        6  \n",
      "2     10.1        6  \n",
      "3      9.9        6  \n",
      "4      9.9        6  \n"
     ]
    }
   ],
   "source": [
    "import pandas as pd\n",
    "red = pd.read_csv('http://archive.ics.uci.edu/ml/machine-learning-databases/wine-quality/winequality-red.csv', sep=';')\n",
    "white = pd.read_csv('http://archive.ics.uci.edu/ml/machine-learning-databases/wine-quality/winequality-white.csv', sep=';')\n",
    "\n",
    "print(red.head())\n",
    "print(white.head())"
   ]
  },
  {
   "cell_type": "code",
   "execution_count": 2,
   "metadata": {},
   "outputs": [
    {
     "name": "stdout",
     "output_type": "stream",
     "text": [
      "       fixed acidity  volatile acidity  citric acid  residual sugar  \\\n",
      "count    6497.000000       6497.000000  6497.000000     6497.000000   \n",
      "mean        7.215307          0.339666     0.318633        5.443235   \n",
      "std         1.296434          0.164636     0.145318        4.757804   \n",
      "min         3.800000          0.080000     0.000000        0.600000   \n",
      "25%         6.400000          0.230000     0.250000        1.800000   \n",
      "50%         7.000000          0.290000     0.310000        3.000000   \n",
      "75%         7.700000          0.400000     0.390000        8.100000   \n",
      "max        15.900000          1.580000     1.660000       65.800000   \n",
      "\n",
      "         chlorides  free sulfur dioxide  total sulfur dioxide      density  \\\n",
      "count  6497.000000          6497.000000           6497.000000  6497.000000   \n",
      "mean      0.056034            30.525319            115.744574     0.994697   \n",
      "std       0.035034            17.749400             56.521855     0.002999   \n",
      "min       0.009000             1.000000              6.000000     0.987110   \n",
      "25%       0.038000            17.000000             77.000000     0.992340   \n",
      "50%       0.047000            29.000000            118.000000     0.994890   \n",
      "75%       0.065000            41.000000            156.000000     0.996990   \n",
      "max       0.611000           289.000000            440.000000     1.038980   \n",
      "\n",
      "                pH    sulphates      alcohol      quality         type  \n",
      "count  6497.000000  6497.000000  6497.000000  6497.000000  6497.000000  \n",
      "mean      3.218501     0.531268    10.491801     5.818378     0.753886  \n",
      "std       0.160787     0.148806     1.192712     0.873255     0.430779  \n",
      "min       2.720000     0.220000     8.000000     3.000000     0.000000  \n",
      "25%       3.110000     0.430000     9.500000     5.000000     1.000000  \n",
      "50%       3.210000     0.510000    10.300000     6.000000     1.000000  \n",
      "75%       3.320000     0.600000    11.300000     6.000000     1.000000  \n",
      "max       4.010000     2.000000    14.900000     9.000000     1.000000  \n"
     ]
    }
   ],
   "source": [
    "# red wine과 white wine에 0, 1로 type을 지정해줌.\n",
    "red['type'] = 0\n",
    "white['type'] = 1\n",
    "\n",
    "wine = pd.concat([red, white])\n",
    "print(wine.describe())"
   ]
  },
  {
   "cell_type": "code",
   "execution_count": 3,
   "metadata": {},
   "outputs": [
    {
     "data": {
      "image/png": "[encoded data removed]",
      "text/plain": [
       "<Figure size 432x288 with 1 Axes>"
      ]
     },
     "metadata": {
      "needs_background": "light"
     },
     "output_type": "display_data"
    },
    {
     "name": "stdout",
     "output_type": "stream",
     "text": [
      "1    4898\n",
      "0    1599\n",
      "Name: type, dtype: int64\n"
     ]
    }
   ],
   "source": [
    "import matplotlib.pyplot as plt\n",
    "plt.hist(wine['type'])\n",
    "plt.xticks([0, 1])\n",
    "plt.show()\n",
    "\n",
    "print(wine['type'].value_counts())"
   ]
  },
  {
   "cell_type": "code",
   "execution_count": 4,
   "metadata": {},
   "outputs": [
    {
     "name": "stdout",
     "output_type": "stream",
     "text": [
      "<class 'pandas.core.frame.DataFrame'>\n",
      "Int64Index: 6497 entries, 0 to 4897\n",
      "Data columns (total 13 columns):\n",
      " #   Column                Non-Null Count  Dtype  \n",
      "---  ------                --------------  -----  \n",
      " 0   fixed acidity         6497 non-null   float64\n",
      " 1   volatile acidity      6497 non-null   float64\n",
      " 2   citric acid           6497 non-null   float64\n",
      " 3   residual sugar        6497 non-null   float64\n",
      " 4   chlorides             6497 non-null   float64\n",
      " 5   free sulfur dioxide   6497 non-null   float64\n",
      " 6   total sulfur dioxide  6497 non-null   float64\n",
      " 7   density               6497 non-null   float64\n",
      " 8   pH                    6497 non-null   float64\n",
      " 9   sulphates             6497 non-null   float64\n",
      " 10  alcohol               6497 non-null   float64\n",
      " 11  quality               6497 non-null   int64  \n",
      " 12  type                  6497 non-null   int64  \n",
      "dtypes: float64(11), int64(2)\n",
      "memory usage: 710.6 KB\n",
      "None\n"
     ]
    }
   ],
   "source": [
    "print(wine.info())"
   ]
  },
  {
   "cell_type": "code",
   "execution_count": 5,
   "metadata": {},
   "outputs": [
    {
     "name": "stdout",
     "output_type": "stream",
     "text": [
      "   fixed acidity  volatile acidity  citric acid  residual sugar  chlorides  \\\n",
      "0       0.297521          0.413333     0.000000        0.019939   0.111296   \n",
      "1       0.330579          0.533333     0.000000        0.030675   0.147841   \n",
      "2       0.330579          0.453333     0.024096        0.026074   0.137874   \n",
      "3       0.611570          0.133333     0.337349        0.019939   0.109635   \n",
      "4       0.297521          0.413333     0.000000        0.019939   0.111296   \n",
      "\n",
      "   free sulfur dioxide  total sulfur dioxide   density        pH  sulphates  \\\n",
      "0             0.034722              0.064516  0.206092  0.612403   0.191011   \n",
      "1             0.083333              0.140553  0.186813  0.372093   0.258427   \n",
      "2             0.048611              0.110599  0.190669  0.418605   0.241573   \n",
      "3             0.055556              0.124424  0.209948  0.341085   0.202247   \n",
      "4             0.034722              0.064516  0.206092  0.612403   0.191011   \n",
      "\n",
      "    alcohol   quality  type  \n",
      "0  0.202899  0.333333   0.0  \n",
      "1  0.260870  0.333333   0.0  \n",
      "2  0.260870  0.333333   0.0  \n",
      "3  0.260870  0.500000   0.0  \n",
      "4  0.202899  0.333333   0.0  \n",
      "       fixed acidity  volatile acidity  citric acid  residual sugar  \\\n",
      "count    6497.000000       6497.000000  6497.000000     6497.000000   \n",
      "mean        0.282257          0.173111     0.191948        0.074283   \n",
      "std         0.107143          0.109758     0.087541        0.072972   \n",
      "min         0.000000          0.000000     0.000000        0.000000   \n",
      "25%         0.214876          0.100000     0.150602        0.018405   \n",
      "50%         0.264463          0.140000     0.186747        0.036810   \n",
      "75%         0.322314          0.213333     0.234940        0.115031   \n",
      "max         1.000000          1.000000     1.000000        1.000000   \n",
      "\n",
      "         chlorides  free sulfur dioxide  total sulfur dioxide      density  \\\n",
      "count  6497.000000          6497.000000           6497.000000  6497.000000   \n",
      "mean      0.078129             0.102518              0.252868     0.146262   \n",
      "std       0.058195             0.061630              0.130235     0.057811   \n",
      "min       0.000000             0.000000              0.000000     0.000000   \n",
      "25%       0.048173             0.055556              0.163594     0.100829   \n",
      "50%       0.063123             0.097222              0.258065     0.149990   \n",
      "75%       0.093023             0.138889              0.345622     0.190476   \n",
      "max       1.000000             1.000000              1.000000     1.000000   \n",
      "\n",
      "                pH    sulphates      alcohol      quality         type  \n",
      "count  6497.000000  6497.000000  6497.000000  6497.000000  6497.000000  \n",
      "mean      0.386435     0.174870     0.361131     0.469730     0.753886  \n",
      "std       0.124641     0.083599     0.172857     0.145543     0.430779  \n",
      "min       0.000000     0.000000     0.000000     0.000000     0.000000  \n",
      "25%       0.302326     0.117978     0.217391     0.333333     1.000000  \n",
      "50%       0.379845     0.162921     0.333333     0.500000     1.000000  \n",
      "75%       0.465116     0.213483     0.478261     0.500000     1.000000  \n",
      "max       1.000000     1.000000     1.000000     1.000000     1.000000  \n"
     ]
    }
   ],
   "source": [
    "# Pandas 에서는 max, min 을 통해서 각 속성별 Max, Min 값을 구할 수 있고, 이를 모든 속성과 행에 대해서 계산할 수 있다.\n",
    "wine_norm = (wine - wine.min()) / (wine.max() - wine.min())\n",
    "print(wine_norm.head())\n",
    "print(wine_norm.describe())"
   ]
  },
  {
   "cell_type": "markdown",
   "metadata": {},
   "source": [
    "- Sample 함수는 전체 데이터 프레임에서 frac 인수로 지정된 비율만큼의 행을 랜덤하게 뽑아서 새로운 데이터 프레임을 만든다.\n",
    "\n",
    "- 여기서 frac=1 이기 때문에, 모든 데이터를 뽑아서 Shuffle 한다는 의미이다.\n",
    "\n",
    ">    wine_norm.sample(frac=1)"
   ]
  },
  {
   "cell_type": "code",
   "execution_count": 6,
   "metadata": {},
   "outputs": [
    {
     "name": "stdout",
     "output_type": "stream",
     "text": [
      "      fixed acidity  volatile acidity  citric acid  residual sugar  chlorides  \\\n",
      "2341       0.280992          0.173333     0.180723        0.119632   0.069767   \n",
      "3146       0.198347          0.100000     0.216867        0.254601   0.049834   \n",
      "1750       0.297521          0.066667     0.180723        0.150307   0.059801   \n",
      "1153       0.123967          0.210000     0.042169        0.010736   0.043189   \n",
      "4042       0.297521          0.053333     0.162651        0.228528   0.068106   \n",
      "\n",
      "      free sulfur dioxide  total sulfur dioxide   density        pH  \\\n",
      "2341             0.135417              0.370968  0.201465  0.589147   \n",
      "3146             0.125000              0.285714  0.238095  0.395349   \n",
      "1750             0.149306              0.387097  0.182957  0.302326   \n",
      "1153             0.086806              0.221198  0.094274  0.604651   \n",
      "4042             0.083333              0.297235  0.217660  0.139535   \n",
      "\n",
      "      sulphates   alcohol   quality  type  \n",
      "2341   0.224719  0.246377  0.333333   1.0  \n",
      "3146   0.117978  0.115942  0.500000   1.0  \n",
      "1750   0.196629  0.246377  0.500000   1.0  \n",
      "1153   0.073034  0.376812  0.500000   1.0  \n",
      "4042   0.117978  0.101449  0.666667   1.0  \n",
      "[[0.28099174 0.17333333 0.18072289 0.1196319  0.06976744 0.13541667\n",
      "  0.37096774 0.2014652  0.58914729 0.2247191  0.24637681 0.33333333\n",
      "  1.        ]\n",
      " [0.19834711 0.1        0.21686747 0.25460123 0.04983389 0.125\n",
      "  0.28571429 0.23809524 0.39534884 0.11797753 0.11594203 0.5\n",
      "  1.        ]\n",
      " [0.29752066 0.06666667 0.18072289 0.15030675 0.05980066 0.14930556\n",
      "  0.38709677 0.18295739 0.30232558 0.19662921 0.24637681 0.5\n",
      "  1.        ]\n",
      " [0.12396694 0.21       0.04216867 0.0107362  0.04318937 0.08680556\n",
      "  0.22119816 0.09427415 0.60465116 0.07303371 0.37681159 0.5\n",
      "  1.        ]\n",
      " [0.29752066 0.05333333 0.1626506  0.22852761 0.06810631 0.08333333\n",
      "  0.29723502 0.21765953 0.13953488 0.11797753 0.10144928 0.66666667\n",
      "  1.        ]]\n"
     ]
    }
   ],
   "source": [
    "import numpy as np\n",
    "wine_shuffle = wine_norm.sample(frac=1)\n",
    "print(wine_shuffle.head())\n",
    "wine_np = wine_shuffle.to_numpy()\n",
    "print(wine_np[:5])"
   ]
  },
  {
   "cell_type": "markdown",
   "metadata": {},
   "source": [
    "#### to_categorical은 Classification에서 자주 쓰이는 함수로, 정답 행렬을 One-Hot Encoding 방식으로 바꿔준다."
   ]
  },
  {
   "cell_type": "code",
   "execution_count": 7,
   "metadata": {},
   "outputs": [
    {
     "name": "stdout",
     "output_type": "stream",
     "text": [
      "[0. 1.]\n",
      "[1. 0.]\n"
     ]
    }
   ],
   "source": [
    "import tensorflow as tf\n",
    "train_idx = int(len(wine_np) * 0.8)\n",
    "train_X, train_Y = wine_np[:train_idx, :-1], wine_np[:train_idx, -1]\n",
    "test_X, test_Y = wine_np[train_idx:, :-1], wine_np[train_idx:, -1]\n",
    "\n",
    "train_Y = tf.keras.utils.to_categorical(train_Y, num_classes=2)\n",
    "test_Y = tf.keras.utils.to_categorical(test_Y, num_classes=2)\n",
    "print(train_Y[0])\n",
    "print(test_Y[0])"
   ]
  },
  {
   "cell_type": "markdown",
   "metadata": {},
   "source": [
    "- Classification Model 이기 때문에, 마지막 Layer의 Activation Function을 Softmax를 사용한다."
   ]
  },
  {
   "cell_type": "code",
   "execution_count": 18,
   "metadata": {},
   "outputs": [
    {
     "name": "stdout",
     "output_type": "stream",
     "text": [
      "Model: \"sequential_7\"\n",
      "_________________________________________________________________\n",
      "Layer (type)                 Output Shape              Param #   \n",
      "=================================================================\n",
      "dense_28 (Dense)             (None, 48)                624       \n",
      "_________________________________________________________________\n",
      "dense_29 (Dense)             (None, 24)                1176      \n",
      "_________________________________________________________________\n",
      "dense_30 (Dense)             (None, 12)                300       \n",
      "_________________________________________________________________\n",
      "dense_31 (Dense)             (None, 2)                 26        \n",
      "=================================================================\n",
      "Total params: 2,126\n",
      "Trainable params: 2,126\n",
      "Non-trainable params: 0\n",
      "_________________________________________________________________\n"
     ]
    }
   ],
   "source": [
    "model = tf.keras.Sequential([\n",
    "    tf.keras.layers.Dense(units=48, activation='relu', input_shape=(12, )),\n",
    "    tf.keras.layers.Dense(units=24, activation='relu'),\n",
    "    tf.keras.layers.Dense(units=12, activation='relu'),\n",
    "    tf.keras.layers.Dense(units=2, activation='softmax')\n",
    "])\n",
    "\n",
    "model.compile(optimizer=tf.keras.optimizers.Adam(lr=0.07),\n",
    "             loss='categorical_crossentropy', metrics=['accuracy'])\n",
    "\n",
    "model.summary()"
   ]
  },
  {
   "cell_type": "code",
   "execution_count": 19,
   "metadata": {},
   "outputs": [
    {
     "name": "stdout",
     "output_type": "stream",
     "text": [
      "Train on 3897 samples, validate on 1300 samples\n",
      "Epoch 1/25\n",
      "3897/3897 [==============================] - 0s 83us/sample - loss: 0.1542 - accuracy: 0.9397 - val_loss: 0.0690 - val_accuracy: 0.9808\n",
      "Epoch 2/25\n",
      "3897/3897 [==============================] - 0s 30us/sample - loss: 0.0626 - accuracy: 0.9841 - val_loss: 0.0847 - val_accuracy: 0.9754\n",
      "Epoch 3/25\n",
      "3897/3897 [==============================] - 0s 29us/sample - loss: 0.0624 - accuracy: 0.9808 - val_loss: 0.0405 - val_accuracy: 0.9892\n",
      "Epoch 4/25\n",
      "3897/3897 [==============================] - 0s 27us/sample - loss: 0.0534 - accuracy: 0.9851 - val_loss: 0.0886 - val_accuracy: 0.9646\n",
      "Epoch 5/25\n",
      "3897/3897 [==============================] - 0s 27us/sample - loss: 0.0466 - accuracy: 0.9872 - val_loss: 0.0324 - val_accuracy: 0.9931\n",
      "Epoch 6/25\n",
      "3897/3897 [==============================] - 0s 27us/sample - loss: 0.0402 - accuracy: 0.9872 - val_loss: 0.0314 - val_accuracy: 0.9900\n",
      "Epoch 7/25\n",
      "3897/3897 [==============================] - 0s 27us/sample - loss: 0.0377 - accuracy: 0.9902 - val_loss: 0.0808 - val_accuracy: 0.9669\n",
      "Epoch 8/25\n",
      "3897/3897 [==============================] - 0s 28us/sample - loss: 0.0349 - accuracy: 0.9905 - val_loss: 0.0580 - val_accuracy: 0.9885\n",
      "Epoch 9/25\n",
      "3897/3897 [==============================] - 0s 27us/sample - loss: 0.0328 - accuracy: 0.9910 - val_loss: 0.0311 - val_accuracy: 0.9931\n",
      "Epoch 10/25\n",
      "3897/3897 [==============================] - 0s 27us/sample - loss: 0.0398 - accuracy: 0.9897 - val_loss: 0.0354 - val_accuracy: 0.9892\n",
      "Epoch 11/25\n",
      "3897/3897 [==============================] - 0s 28us/sample - loss: 0.0522 - accuracy: 0.9879 - val_loss: 0.0439 - val_accuracy: 0.9885\n",
      "Epoch 12/25\n",
      "3897/3897 [==============================] - 0s 27us/sample - loss: 0.0328 - accuracy: 0.9902 - val_loss: 0.0287 - val_accuracy: 0.9954\n",
      "Epoch 13/25\n",
      "3897/3897 [==============================] - 0s 30us/sample - loss: 0.0291 - accuracy: 0.9936 - val_loss: 0.0331 - val_accuracy: 0.9938\n",
      "Epoch 14/25\n",
      "3897/3897 [==============================] - 0s 29us/sample - loss: 0.0402 - accuracy: 0.9897 - val_loss: 0.0465 - val_accuracy: 0.9854\n",
      "Epoch 15/25\n",
      "3897/3897 [==============================] - 0s 29us/sample - loss: 0.0468 - accuracy: 0.9882 - val_loss: 0.0418 - val_accuracy: 0.9892\n",
      "Epoch 16/25\n",
      "3897/3897 [==============================] - 0s 27us/sample - loss: 0.0314 - accuracy: 0.9920 - val_loss: 0.0251 - val_accuracy: 0.9954\n",
      "Epoch 17/25\n",
      "3897/3897 [==============================] - 0s 27us/sample - loss: 0.0299 - accuracy: 0.9918 - val_loss: 0.0283 - val_accuracy: 0.9954\n",
      "Epoch 18/25\n",
      "3897/3897 [==============================] - 0s 28us/sample - loss: 0.0372 - accuracy: 0.9902 - val_loss: 0.1944 - val_accuracy: 0.9577\n",
      "Epoch 19/25\n",
      "3897/3897 [==============================] - 0s 27us/sample - loss: 0.0394 - accuracy: 0.9892 - val_loss: 0.0315 - val_accuracy: 0.9931\n",
      "Epoch 20/25\n",
      "3897/3897 [==============================] - 0s 28us/sample - loss: 0.0364 - accuracy: 0.9902 - val_loss: 0.0695 - val_accuracy: 0.9808\n",
      "Epoch 21/25\n",
      "3897/3897 [==============================] - 0s 28us/sample - loss: 0.0408 - accuracy: 0.9905 - val_loss: 0.0250 - val_accuracy: 0.9946\n",
      "Epoch 22/25\n",
      "3897/3897 [==============================] - 0s 27us/sample - loss: 0.0311 - accuracy: 0.9928 - val_loss: 0.0432 - val_accuracy: 0.9900\n",
      "Epoch 23/25\n",
      "3897/3897 [==============================] - 0s 28us/sample - loss: 0.0290 - accuracy: 0.9931 - val_loss: 0.0282 - val_accuracy: 0.9946\n",
      "Epoch 24/25\n",
      "3897/3897 [==============================] - 0s 27us/sample - loss: 0.0364 - accuracy: 0.9895 - val_loss: 0.0828 - val_accuracy: 0.9862\n",
      "Epoch 25/25\n",
      "3897/3897 [==============================] - 0s 27us/sample - loss: 0.0325 - accuracy: 0.9926 - val_loss: 0.0295 - val_accuracy: 0.9954\n"
     ]
    }
   ],
   "source": [
    "history = model.fit(train_X, train_Y, epochs=25, batch_size=32, validation_split=0.25)"
   ]
  },
  {
   "cell_type": "code",
   "execution_count": 20,
   "metadata": {},
   "outputs": [
    {
     "data": {
      "image/png": "[encoded data removed]",
      "text/plain": [
       "<Figure size 864x288 with 2 Axes>"
      ]
     },
     "metadata": {
      "needs_background": "light"
     },
     "output_type": "display_data"
    }
   ],
   "source": [
    "import matplotlib.pyplot as plt\n",
    "plt.figure(figsize=(12, 4))\n",
    "\n",
    "plt.subplot(1, 2, 1)\n",
    "plt.plot(history.history['loss'], 'b-', label='loss')\n",
    "plt.plot(history.history['val_loss'], 'r--', label='val_loss')\n",
    "plt.xlabel('Epoch')\n",
    "plt.legend()\n",
    "\n",
    "plt.subplot(1, 2, 2)\n",
    "plt.plot(history.history['accuracy'], 'g-', label='accuracy')\n",
    "plt.plot(history.history['val_accuracy'], 'k--', label='val_accuracy')\n",
    "plt.xlabel('Epoch')\n",
    "plt.ylim(0.7, 1)\n",
    "plt.legend()\n",
    "\n",
    "plt.show()"
   ]
  },
  {
   "cell_type": "code",
   "execution_count": 21,
   "metadata": {},
   "outputs": [
    {
     "name": "stdout",
     "output_type": "stream",
     "text": [
      "1300/1300 [==============================] - 0s 16us/sample - loss: 0.0318 - accuracy: 0.9915\n"
     ]
    },
    {
     "data": {
      "text/plain": [
       "[0.03180410877156716, 0.99153847]"
      ]
     },
     "execution_count": 21,
     "metadata": {},
     "output_type": "execute_result"
    }
   ],
   "source": [
    "model.evaluate(test_X, test_Y)"
   ]
  }
 ],
 "metadata": {
  "kernelspec": {
   "display_name": "Python 3",
   "language": "python",
   "name": "python3"
  },
  "language_info": {
   "codemirror_mode": {
    "name": "ipython",
    "version": 3
   },
   "file_extension": ".py",
   "mimetype": "text/x-python",
   "name": "python",
   "nbconvert_exporter": "python",
   "pygments_lexer": "ipython3",
   "version": "3.7.6"
  }
 },
 "nbformat": 4,
 "nbformat_minor": 4
}
