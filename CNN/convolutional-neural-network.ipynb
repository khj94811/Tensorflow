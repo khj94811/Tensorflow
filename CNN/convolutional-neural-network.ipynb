{
 "cells": [
  {
   "cell_type": "markdown",
   "metadata": {
    "colab_type": "text",
    "id": "jn4QLCrEUInQ"
   },
   "source": [
    "# Convolutional Neural Network : CNN\n",
    "\n",
    "- Vision 연구에서는 특징을 찾기 위해서 다양한 방법을 개발했다.\n",
    "\n",
    "- 그렇다면, 이미지 데이터에서 어떠한 특징을 찾아야할까?\n",
    "\n",
    "\n",
    "### Hand-crafted Feature\n",
    "\n",
    "- 경험적 지식을 통해 직접 수작업으로 설계한 특징\n",
    "\n",
    "\n",
    "## 주요 Layer\n",
    "\n",
    "- Dense Layer는 Fully Connected Layer\n",
    "\n",
    "- Flatten Layer는 다차원 이미지를 1차원으로 바꿔주는 Layer\n",
    "\n",
    "### Feature Extractor\n",
    "\n",
    "- Convolution Layer와 Pooling Layer가 있으며, 두 Layer가 교차되며 배치된다.\n",
    "\n",
    "### Classifier\n",
    "\n",
    "- Dense Layer가 Classifier 역할을 한다.\n",
    "\n",
    "- Overfitting을 막기 위해서 Dense Layer 사이에 Dropout Layer가 배치된다. (마지막 Layer 뒤에는 X)\n",
    "\n",
    "#### Convolution Layer\n",
    "\n",
    "- Convolution 연산을 하는 레이어로, Filter는 학습을 통해서 자동으로 추출된다.\n",
    "\n",
    "- 때문에 우리가 조절해야할 것은 필터의 개수 정도이다.\n",
    "``` python\n",
    "conv1 = tf.keras.layers.Conv2D(kernel_size=(3,3), strides=(2,2), padding='valid', filters=16)\n",
    "```\n",
    "\n",
    "#### Pooling Layer\n",
    "\n",
    "- 인접한 Pixel들은 비슷한 정보를 가지고 있는 경우가 많다.\n",
    "\n",
    "- 이미지의 크기를 줄이면서 중요한 정보만을 남기기 위해 Subsampling 이라는 기법을 사용한다.\n",
    "\n",
    "- 효율적 메모리 사용 뿐만이 아니라, 계산할 정보가 줄어들기 때문에 Overfitting 방지 효과도 있다.\n",
    "\n",
    "- 이 때, 사용되는 Layer가 Pooling Layer 이며, Max / Average Pooling Layer 등이 있다 (Max가 더 많이 쓰인다)\n",
    "``` python\n",
    "pool1 = tf.keras.layers.MaxPool2D(pool_size=(2,2), strides=(2,2))\n",
    "```\n",
    "\n",
    "#### Dropout Layer\n",
    "\n",
    "- Network의 Overfitting을 막기 위한 노력의 결과중 하나로 학습 과정에서 무작위로 뉴런의 일부를 제거하는 것이다.\n",
    "\n",
    "- 즉, 한쪽에 치우치지 않도록 학습시에만 일부 뉴런간의 연결을 끊어두는 것이다.\n",
    "``` python\n",
    "dropout = tf.keras.layers.Dropout(rate=0.3)\n",
    "```"
   ]
  },
  {
   "cell_type": "code",
   "execution_count": 1,
   "metadata": {
    "colab": {
     "base_uri": "https://localhost:8080/",
     "height": 323
    },
    "colab_type": "code",
    "executionInfo": {
     "elapsed": 4331,
     "status": "ok",
     "timestamp": 1585150301369,
     "user": {
      "displayName": "매브레이커",
      "photoUrl": "https://lh3.googleusercontent.com/a-/AOh14Gi66GYCO2Oqpv5yoF59tlpghyzatCaxPzhpjop2=s64",
      "userId": "10762110144001691954"
     },
     "user_tz": -540
    },
    "id": "iAz9dsf9UMtY",
    "outputId": "2cfcf705-9121-4fe2-ce54-c6693273846f"
   },
   "outputs": [
    {
     "name": "stdout",
     "output_type": "stream",
     "text": [
      "Wed Mar 25 15:31:38 2020       \n",
      "+-----------------------------------------------------------------------------+\n",
      "| NVIDIA-SMI 440.64.00    Driver Version: 418.67       CUDA Version: 10.1     |\n",
      "|-------------------------------+----------------------+----------------------+\n",
      "| GPU  Name        Persistence-M| Bus-Id        Disp.A | Volatile Uncorr. ECC |\n",
      "| Fan  Temp  Perf  Pwr:Usage/Cap|         Memory-Usage | GPU-Util  Compute M. |\n",
      "|===============================+======================+======================|\n",
      "|   0  Tesla P100-PCIE...  Off  | 00000000:00:04.0 Off |                    0 |\n",
      "| N/A   45C    P0    28W / 250W |      0MiB / 16280MiB |      0%      Default |\n",
      "+-------------------------------+----------------------+----------------------+\n",
      "                                                                               \n",
      "+-----------------------------------------------------------------------------+\n",
      "| Processes:                                                       GPU Memory |\n",
      "|  GPU       PID   Type   Process name                             Usage      |\n",
      "|=============================================================================|\n",
      "|  No running processes found                                                 |\n",
      "+-----------------------------------------------------------------------------+\n"
     ]
    }
   ],
   "source": [
    "!nvidia-smi"
   ]
  },
  {
   "cell_type": "code",
   "execution_count": 2,
   "metadata": {
    "colab": {
     "base_uri": "https://localhost:8080/",
     "height": 208
    },
    "colab_type": "code",
    "executionInfo": {
     "elapsed": 7258,
     "status": "ok",
     "timestamp": 1585150311672,
     "user": {
      "displayName": "매브레이커",
      "photoUrl": "https://lh3.googleusercontent.com/a-/AOh14Gi66GYCO2Oqpv5yoF59tlpghyzatCaxPzhpjop2=s64",
      "userId": "10762110144001691954"
     },
     "user_tz": -540
    },
    "id": "h_UdTaYpUInR",
    "outputId": "0ba4a86c-fc5c-4543-e147-3d300dbec851"
   },
   "outputs": [
    {
     "data": {
      "text/html": [
       "<p style=\"color: red;\">\n",
       "The default version of TensorFlow in Colab will switch to TensorFlow 2.x on the 27th of March, 2020.<br>\n",
       "We recommend you <a href=\"https://www.tensorflow.org/guide/migrate\" target=\"_blank\">upgrade</a> now\n",
       "or ensure your notebook will continue to use TensorFlow 1.x via the <code>%tensorflow_version 1.x</code> magic:\n",
       "<a href=\"https://colab.research.google.com/notebooks/tensorflow_version.ipynb\" target=\"_blank\">more info</a>.</p>\n"
      ],
      "text/plain": [
       "<IPython.core.display.HTML object>"
      ]
     },
     "metadata": {
      "tags": []
     },
     "output_type": "display_data"
    },
    {
     "name": "stdout",
     "output_type": "stream",
     "text": [
      "Downloading data from https://storage.googleapis.com/tensorflow/tf-keras-datasets/train-labels-idx1-ubyte.gz\n",
      "32768/29515 [=================================] - 0s 0us/step\n",
      "Downloading data from https://storage.googleapis.com/tensorflow/tf-keras-datasets/train-images-idx3-ubyte.gz\n",
      "26427392/26421880 [==============================] - 0s 0us/step\n",
      "Downloading data from https://storage.googleapis.com/tensorflow/tf-keras-datasets/t10k-labels-idx1-ubyte.gz\n",
      "8192/5148 [===============================================] - 0s 0us/step\n",
      "Downloading data from https://storage.googleapis.com/tensorflow/tf-keras-datasets/t10k-images-idx3-ubyte.gz\n",
      "4423680/4422102 [==============================] - 0s 0us/step\n"
     ]
    }
   ],
   "source": [
    "import tensorflow as tf\n",
    "\n",
    "fashion_mnist = tf.keras.datasets.fashion_mnist\n",
    "(train_X, train_Y), (test_X, test_Y) = fashion_mnist.load_data()\n",
    "\n",
    "train_X = train_X / 255.0\n",
    "test_X = test_X / 255.0"
   ]
  },
  {
   "cell_type": "code",
   "execution_count": 3,
   "metadata": {
    "colab": {
     "base_uri": "https://localhost:8080/",
     "height": 35
    },
    "colab_type": "code",
    "executionInfo": {
     "elapsed": 2646,
     "status": "ok",
     "timestamp": 1585150311674,
     "user": {
      "displayName": "매브레이커",
      "photoUrl": "https://lh3.googleusercontent.com/a-/AOh14Gi66GYCO2Oqpv5yoF59tlpghyzatCaxPzhpjop2=s64",
      "userId": "10762110144001691954"
     },
     "user_tz": -540
    },
    "id": "RtVaEJCVUInU",
    "outputId": "fd6573ef-5b7b-4ac0-a987-3cbf65a1d44f"
   },
   "outputs": [
    {
     "name": "stdout",
     "output_type": "stream",
     "text": [
      "(60000, 28, 28) (10000, 28, 28)\n"
     ]
    }
   ],
   "source": [
    "print(train_X.shape, test_X.shape)"
   ]
  },
  {
   "cell_type": "code",
   "execution_count": 4,
   "metadata": {
    "colab": {
     "base_uri": "https://localhost:8080/",
     "height": 35
    },
    "colab_type": "code",
    "executionInfo": {
     "elapsed": 1511,
     "status": "ok",
     "timestamp": 1585150316270,
     "user": {
      "displayName": "매브레이커",
      "photoUrl": "https://lh3.googleusercontent.com/a-/AOh14Gi66GYCO2Oqpv5yoF59tlpghyzatCaxPzhpjop2=s64",
      "userId": "10762110144001691954"
     },
     "user_tz": -540
    },
    "id": "Z_lpwxfxUInW",
    "outputId": "111836ad-e6f3-417c-be63-3dcc09b214d5"
   },
   "outputs": [
    {
     "name": "stdout",
     "output_type": "stream",
     "text": [
      "(60000, 28, 28, 1) (10000, 28, 28, 1)\n"
     ]
    }
   ],
   "source": [
    "train_X = train_X.reshape(-1, 28, 28, 1)\n",
    "test_X = test_X.reshape(-1, 28, 28, 1)\n",
    "\n",
    "print(train_X.shape, test_X.shape)"
   ]
  },
  {
   "cell_type": "code",
   "execution_count": 5,
   "metadata": {
    "colab": {
     "base_uri": "https://localhost:8080/",
     "height": 611
    },
    "colab_type": "code",
    "executionInfo": {
     "elapsed": 3036,
     "status": "ok",
     "timestamp": 1585150320245,
     "user": {
      "displayName": "매브레이커",
      "photoUrl": "https://lh3.googleusercontent.com/a-/AOh14Gi66GYCO2Oqpv5yoF59tlpghyzatCaxPzhpjop2=s64",
      "userId": "10762110144001691954"
     },
     "user_tz": -540
    },
    "id": "7wbL2fGyUInY",
    "outputId": "b48f1b98-3104-44ab-8ef8-c6da26bd084e"
   },
   "outputs": [
    {
     "data": {
      "image/png": "[encoded data removed]",
      "text/plain": [
       "<Figure size 720x720 with 16 Axes>"
      ]
     },
     "metadata": {
      "tags": []
     },
     "output_type": "display_data"
    },
    {
     "name": "stdout",
     "output_type": "stream",
     "text": [
      "[9 0 0 3 0 2 7 2 5 5 0 9 5 5 7 9]\n"
     ]
    }
   ],
   "source": [
    "import matplotlib.pyplot as plt\n",
    "\n",
    "plt.figure(figsize=(10, 10))\n",
    "for c in range(16):\n",
    "    plt.subplot(4, 4, c+1)\n",
    "    plt.imshow(train_X[c].reshape(28, 28), cmap='gray')\n",
    "\n",
    "plt.show()\n",
    "print(train_Y[:16])"
   ]
  },
  {
   "cell_type": "code",
   "execution_count": 6,
   "metadata": {
    "colab": {
     "base_uri": "https://localhost:8080/",
     "height": 451
    },
    "colab_type": "code",
    "executionInfo": {
     "elapsed": 1029,
     "status": "ok",
     "timestamp": 1585150323184,
     "user": {
      "displayName": "매브레이커",
      "photoUrl": "https://lh3.googleusercontent.com/a-/AOh14Gi66GYCO2Oqpv5yoF59tlpghyzatCaxPzhpjop2=s64",
      "userId": "10762110144001691954"
     },
     "user_tz": -540
    },
    "id": "alrqwYUzUInb",
    "outputId": "2118347d-67ab-4c01-a3f1-4de6f62aec06"
   },
   "outputs": [
    {
     "name": "stdout",
     "output_type": "stream",
     "text": [
      "WARNING:tensorflow:From /tensorflow-1.15.0/python3.6/tensorflow_core/python/ops/resource_variable_ops.py:1630: calling BaseResourceVariable.__init__ (from tensorflow.python.ops.resource_variable_ops) with constraint is deprecated and will be removed in a future version.\n",
      "Instructions for updating:\n",
      "If using Keras pass *_constraint arguments to layers.\n",
      "Model: \"sequential\"\n",
      "_________________________________________________________________\n",
      "Layer (type)                 Output Shape              Param #   \n",
      "=================================================================\n",
      "conv2d (Conv2D)              (None, 26, 26, 16)        160       \n",
      "_________________________________________________________________\n",
      "conv2d_1 (Conv2D)            (None, 24, 24, 32)        4640      \n",
      "_________________________________________________________________\n",
      "conv2d_2 (Conv2D)            (None, 22, 22, 64)        18496     \n",
      "_________________________________________________________________\n",
      "flatten (Flatten)            (None, 30976)             0         \n",
      "_________________________________________________________________\n",
      "dense (Dense)                (None, 128)               3965056   \n",
      "_________________________________________________________________\n",
      "dense_1 (Dense)              (None, 10)                1290      \n",
      "=================================================================\n",
      "Total params: 3,989,642\n",
      "Trainable params: 3,989,642\n",
      "Non-trainable params: 0\n",
      "_________________________________________________________________\n"
     ]
    }
   ],
   "source": [
    "model = tf.keras.Sequential([\n",
    "    tf.keras.layers.Conv2D(input_shape=(28, 28, 1), kernel_size=(3, 3), filters=16),\n",
    "    tf.keras.layers.Conv2D(kernel_size=(3, 3), filters=32),\n",
    "    tf.keras.layers.Conv2D(kernel_size=(3, 3), filters=64),\n",
    "    tf.keras.layers.Flatten(),\n",
    "    tf.keras.layers.Dense(units=128, activation='relu'),\n",
    "    tf.keras.layers.Dense(units=10, activation='softmax')\n",
    "])\n",
    "\n",
    "model.compile(optimizer=tf.keras.optimizers.Adam(), loss='sparse_categorical_crossentropy', metrics=['accuracy'])\n",
    "\n",
    "model.summary()"
   ]
  },
  {
   "cell_type": "code",
   "execution_count": 7,
   "metadata": {
    "colab": {
     "base_uri": "https://localhost:8080/",
     "height": 935
    },
    "colab_type": "code",
    "executionInfo": {
     "elapsed": 196935,
     "status": "ok",
     "timestamp": 1585150522891,
     "user": {
      "displayName": "매브레이커",
      "photoUrl": "https://lh3.googleusercontent.com/a-/AOh14Gi66GYCO2Oqpv5yoF59tlpghyzatCaxPzhpjop2=s64",
      "userId": "10762110144001691954"
     },
     "user_tz": -540
    },
    "id": "W76MCtYkUInd",
    "outputId": "a5a1a8c9-6c44-482c-89e2-fdf6e2ea8ad5"
   },
   "outputs": [
    {
     "name": "stdout",
     "output_type": "stream",
     "text": [
      "Train on 45000 samples, validate on 15000 samples\n",
      "Epoch 1/25\n",
      "45000/45000 [==============================] - 13s 298us/sample - loss: 0.4582 - acc: 0.8371 - val_loss: 0.3943 - val_acc: 0.8572\n",
      "Epoch 2/25\n",
      "45000/45000 [==============================] - 7s 160us/sample - loss: 0.3379 - acc: 0.8771 - val_loss: 0.3663 - val_acc: 0.8693\n",
      "Epoch 3/25\n",
      "45000/45000 [==============================] - 7s 161us/sample - loss: 0.2806 - acc: 0.8966 - val_loss: 0.3964 - val_acc: 0.8668\n",
      "Epoch 4/25\n",
      "45000/45000 [==============================] - 7s 162us/sample - loss: 0.2435 - acc: 0.9107 - val_loss: 0.3901 - val_acc: 0.8713\n",
      "Epoch 5/25\n",
      "45000/45000 [==============================] - 7s 161us/sample - loss: 0.2057 - acc: 0.9253 - val_loss: 0.4626 - val_acc: 0.8607\n",
      "Epoch 6/25\n",
      "45000/45000 [==============================] - 7s 163us/sample - loss: 0.1805 - acc: 0.9343 - val_loss: 0.4346 - val_acc: 0.8721\n",
      "Epoch 7/25\n",
      "45000/45000 [==============================] - 7s 162us/sample - loss: 0.1593 - acc: 0.9411 - val_loss: 0.5544 - val_acc: 0.8645\n",
      "Epoch 8/25\n",
      "45000/45000 [==============================] - 7s 161us/sample - loss: 0.1433 - acc: 0.9470 - val_loss: 0.5802 - val_acc: 0.8649\n",
      "Epoch 9/25\n",
      "45000/45000 [==============================] - 7s 161us/sample - loss: 0.1314 - acc: 0.9519 - val_loss: 0.6110 - val_acc: 0.8665\n",
      "Epoch 10/25\n",
      "45000/45000 [==============================] - 7s 161us/sample - loss: 0.1175 - acc: 0.9573 - val_loss: 0.6434 - val_acc: 0.8649\n",
      "Epoch 11/25\n",
      "45000/45000 [==============================] - 7s 164us/sample - loss: 0.1119 - acc: 0.9598 - val_loss: 0.7353 - val_acc: 0.8617\n",
      "Epoch 12/25\n",
      "45000/45000 [==============================] - 7s 165us/sample - loss: 0.1105 - acc: 0.9602 - val_loss: 0.7452 - val_acc: 0.8600\n",
      "Epoch 13/25\n",
      "45000/45000 [==============================] - 7s 162us/sample - loss: 0.0951 - acc: 0.9658 - val_loss: 0.7953 - val_acc: 0.8664\n",
      "Epoch 14/25\n",
      "45000/45000 [==============================] - 7s 162us/sample - loss: 0.0899 - acc: 0.9685 - val_loss: 0.8848 - val_acc: 0.8590\n",
      "Epoch 15/25\n",
      "45000/45000 [==============================] - 7s 162us/sample - loss: 0.0844 - acc: 0.9705 - val_loss: 0.9450 - val_acc: 0.8592\n",
      "Epoch 16/25\n",
      "45000/45000 [==============================] - 7s 164us/sample - loss: 0.0873 - acc: 0.9695 - val_loss: 0.9017 - val_acc: 0.8575\n",
      "Epoch 17/25\n",
      "45000/45000 [==============================] - 7s 161us/sample - loss: 0.0778 - acc: 0.9734 - val_loss: 0.9866 - val_acc: 0.8621\n",
      "Epoch 18/25\n",
      "45000/45000 [==============================] - 7s 161us/sample - loss: 0.0722 - acc: 0.9751 - val_loss: 1.0573 - val_acc: 0.8582\n",
      "Epoch 19/25\n",
      "45000/45000 [==============================] - 7s 163us/sample - loss: 0.0790 - acc: 0.9740 - val_loss: 1.0496 - val_acc: 0.8644\n",
      "Epoch 20/25\n",
      "45000/45000 [==============================] - 7s 161us/sample - loss: 0.0597 - acc: 0.9788 - val_loss: 1.1637 - val_acc: 0.8607\n",
      "Epoch 21/25\n",
      "45000/45000 [==============================] - 7s 161us/sample - loss: 0.0768 - acc: 0.9753 - val_loss: 1.1191 - val_acc: 0.8608\n",
      "Epoch 22/25\n",
      "45000/45000 [==============================] - 7s 160us/sample - loss: 0.0631 - acc: 0.9783 - val_loss: 1.2804 - val_acc: 0.8607\n",
      "Epoch 23/25\n",
      "45000/45000 [==============================] - 7s 164us/sample - loss: 0.0673 - acc: 0.9780 - val_loss: 1.2102 - val_acc: 0.8671\n",
      "Epoch 24/25\n",
      "45000/45000 [==============================] - 7s 161us/sample - loss: 0.0573 - acc: 0.9812 - val_loss: 1.4266 - val_acc: 0.8595\n",
      "Epoch 25/25\n",
      "45000/45000 [==============================] - 7s 162us/sample - loss: 0.0672 - acc: 0.9784 - val_loss: 1.3491 - val_acc: 0.8634\n"
     ]
    }
   ],
   "source": [
    "history = model.fit(train_X, train_Y, epochs=25, validation_split=0.25)"
   ]
  },
  {
   "cell_type": "code",
   "execution_count": 10,
   "metadata": {
    "colab": {
     "base_uri": "https://localhost:8080/",
     "height": 510
    },
    "colab_type": "code",
    "executionInfo": {
     "elapsed": 1273,
     "status": "error",
     "timestamp": 1585150721805,
     "user": {
      "displayName": "매브레이커",
      "photoUrl": "https://lh3.googleusercontent.com/a-/AOh14Gi66GYCO2Oqpv5yoF59tlpghyzatCaxPzhpjop2=s64",
      "userId": "10762110144001691954"
     },
     "user_tz": -540
    },
    "id": "qhrzMfmfUInf",
    "outputId": "2e08689d-f159-41b9-8c76-714e14a09a30"
   },
   "outputs": [
    {
     "ename": "KeyError",
     "evalue": "ignored",
     "output_type": "error",
     "traceback": [
      "\u001b[0;31m---------------------------------------------------------------------------\u001b[0m",
      "\u001b[0;31mKeyError\u001b[0m                                  Traceback (most recent call last)",
      "\u001b[0;32m<ipython-input-10-1ca8a09c9ba2>\u001b[0m in \u001b[0;36m<module>\u001b[0;34m()\u001b[0m\n\u001b[1;32m      8\u001b[0m \u001b[0;34m\u001b[0m\u001b[0m\n\u001b[1;32m      9\u001b[0m \u001b[0mplt\u001b[0m\u001b[0;34m.\u001b[0m\u001b[0msubplot\u001b[0m\u001b[0;34m(\u001b[0m\u001b[0;36m1\u001b[0m\u001b[0;34m,\u001b[0m \u001b[0;36m2\u001b[0m\u001b[0;34m,\u001b[0m \u001b[0;36m2\u001b[0m\u001b[0;34m)\u001b[0m\u001b[0;34m\u001b[0m\u001b[0;34m\u001b[0m\u001b[0m\n\u001b[0;32m---> 10\u001b[0;31m \u001b[0mplt\u001b[0m\u001b[0;34m.\u001b[0m\u001b[0mplot\u001b[0m\u001b[0;34m(\u001b[0m\u001b[0mhistory\u001b[0m\u001b[0;34m.\u001b[0m\u001b[0mhistory\u001b[0m\u001b[0;34m[\u001b[0m\u001b[0;34m'accuracy'\u001b[0m\u001b[0;34m]\u001b[0m\u001b[0;34m,\u001b[0m \u001b[0;34m'g-'\u001b[0m\u001b[0;34m,\u001b[0m \u001b[0mlabel\u001b[0m\u001b[0;34m=\u001b[0m\u001b[0;34m'accuracy'\u001b[0m\u001b[0;34m)\u001b[0m\u001b[0;34m\u001b[0m\u001b[0;34m\u001b[0m\u001b[0m\n\u001b[0m\u001b[1;32m     11\u001b[0m \u001b[0mplt\u001b[0m\u001b[0;34m.\u001b[0m\u001b[0mplot\u001b[0m\u001b[0;34m(\u001b[0m\u001b[0mhistory\u001b[0m\u001b[0;34m.\u001b[0m\u001b[0mhistory\u001b[0m\u001b[0;34m[\u001b[0m\u001b[0;34m'val_accuracy'\u001b[0m\u001b[0;34m]\u001b[0m\u001b[0;34m,\u001b[0m \u001b[0;34m'k--'\u001b[0m\u001b[0;34m,\u001b[0m \u001b[0mlabel\u001b[0m\u001b[0;34m=\u001b[0m\u001b[0;34m'val_accuracy'\u001b[0m\u001b[0;34m)\u001b[0m\u001b[0;34m\u001b[0m\u001b[0;34m\u001b[0m\u001b[0m\n\u001b[1;32m     12\u001b[0m \u001b[0mplt\u001b[0m\u001b[0;34m.\u001b[0m\u001b[0mxlabel\u001b[0m\u001b[0;34m(\u001b[0m\u001b[0;34m'Epoch'\u001b[0m\u001b[0;34m)\u001b[0m\u001b[0;34m\u001b[0m\u001b[0;34m\u001b[0m\u001b[0m\n",
      "\u001b[0;31mKeyError\u001b[0m: 'accuracy'"
     ]
    },
    {
     "data": {
      "image/png": "[encoded data removed]",
      "text/plain": [
       "<Figure size 864x288 with 2 Axes>"
      ]
     },
     "metadata": {
      "tags": []
     },
     "output_type": "display_data"
    }
   ],
   "source": [
    "plt.figure(figsize=(12, 4))\n",
    "\n",
    "plt.subplot(1, 2, 1)\n",
    "plt.plot(history.history['loss'], 'b-', label='loss')\n",
    "plt.plot(history.history['val_loss'], 'r--', label='val_loss')\n",
    "plt.xlabel('Epoch')\n",
    "plt.legend()\n",
    "\n",
    "plt.subplot(1, 2, 2)\n",
    "#plt.plot(history.history['accuracy'], 'g-', label='accuracy')\n",
    "plt.plot(history.history['val_accuracy'], 'k--', label='val_accuracy')\n",
    "plt.xlabel('Epoch')\n",
    "plt.ylim(0.7, 1)\n",
    "plt.legend()\n",
    "\n",
    "plt.show()\n",
    "\n",
    "model.evaluate(test_X, test_Y, verbose=0)"
   ]
  },
  {
   "cell_type": "code",
   "execution_count": 12,
   "metadata": {
    "colab": {
     "base_uri": "https://localhost:8080/",
     "height": 449
    },
    "colab_type": "code",
    "executionInfo": {
     "elapsed": 1255,
     "status": "ok",
     "timestamp": 1585150764124,
     "user": {
      "displayName": "매브레이커",
      "photoUrl": "https://lh3.googleusercontent.com/a-/AOh14Gi66GYCO2Oqpv5yoF59tlpghyzatCaxPzhpjop2=s64",
      "userId": "10762110144001691954"
     },
     "user_tz": -540
    },
    "id": "rWiI2GB9UInh",
    "outputId": "06048dd7-232d-4fed-ce73-42db9bc58d0e"
   },
   "outputs": [
    {
     "name": "stdout",
     "output_type": "stream",
     "text": [
      "Model: \"sequential_2\"\n",
      "_________________________________________________________________\n",
      "Layer (type)                 Output Shape              Param #   \n",
      "=================================================================\n",
      "conv2d_6 (Conv2D)            (None, 26, 26, 16)        160       \n",
      "_________________________________________________________________\n",
      "max_pooling2d_2 (MaxPooling2 (None, 13, 13, 16)        0         \n",
      "_________________________________________________________________\n",
      "conv2d_7 (Conv2D)            (None, 11, 11, 64)        9280      \n",
      "_________________________________________________________________\n",
      "max_pooling2d_3 (MaxPooling2 (None, 5, 5, 64)          0         \n",
      "_________________________________________________________________\n",
      "conv2d_8 (Conv2D)            (None, 3, 3, 128)         73856     \n",
      "_________________________________________________________________\n",
      "flatten_2 (Flatten)          (None, 1152)              0         \n",
      "_________________________________________________________________\n",
      "dense_4 (Dense)              (None, 128)               147584    \n",
      "_________________________________________________________________\n",
      "dense_5 (Dense)              (None, 10)                1290      \n",
      "=================================================================\n",
      "Total params: 232,170\n",
      "Trainable params: 232,170\n",
      "Non-trainable params: 0\n",
      "_________________________________________________________________\n"
     ]
    }
   ],
   "source": [
    "model = tf.keras.Sequential([\n",
    "    tf.keras.layers.Conv2D(input_shape=(28, 28, 1), kernel_size=(3, 3), filters=16),\n",
    "    tf.keras.layers.MaxPool2D(strides=(2, 2)),\n",
    "    tf.keras.layers.Conv2D(kernel_size=(3, 3), filters=64),\n",
    "    tf.keras.layers.MaxPool2D(strides=(2, 2)),\n",
    "    tf.keras.layers.Conv2D(kernel_size=(3, 3), filters=128),\n",
    "    tf.keras.layers.Flatten(),\n",
    "    tf.keras.layers.Dense(units=128, activation='relu'),\n",
    "    tf.keras.layers.Dense(units=10, activation='softmax')\n",
    "])\n",
    "\n",
    "model.compile(optimizer=tf.keras.optimizers.Adam(), loss='sparse_categorical_crossentropy', metrics=['accuracy'])\n",
    "\n",
    "model.summary()"
   ]
  },
  {
   "cell_type": "code",
   "execution_count": 13,
   "metadata": {
    "colab": {
     "base_uri": "https://localhost:8080/",
     "height": 935
    },
    "colab_type": "code",
    "executionInfo": {
     "elapsed": 169830,
     "status": "ok",
     "timestamp": 1585150959339,
     "user": {
      "displayName": "매브레이커",
      "photoUrl": "https://lh3.googleusercontent.com/a-/AOh14Gi66GYCO2Oqpv5yoF59tlpghyzatCaxPzhpjop2=s64",
      "userId": "10762110144001691954"
     },
     "user_tz": -540
    },
    "id": "IHNzYMLxWLOw",
    "outputId": "be853029-a970-4ac0-cf51-42958c5d020e"
   },
   "outputs": [
    {
     "name": "stdout",
     "output_type": "stream",
     "text": [
      "Train on 45000 samples, validate on 15000 samples\n",
      "Epoch 1/25\n",
      "45000/45000 [==============================] - 7s 155us/sample - loss: 0.4887 - acc: 0.8214 - val_loss: 0.3711 - val_acc: 0.8629\n",
      "Epoch 2/25\n",
      "45000/45000 [==============================] - 7s 151us/sample - loss: 0.3224 - acc: 0.8825 - val_loss: 0.3225 - val_acc: 0.8830\n",
      "Epoch 3/25\n",
      "45000/45000 [==============================] - 7s 148us/sample - loss: 0.2754 - acc: 0.8989 - val_loss: 0.2980 - val_acc: 0.8912\n",
      "Epoch 4/25\n",
      "45000/45000 [==============================] - 7s 153us/sample - loss: 0.2439 - acc: 0.9094 - val_loss: 0.3057 - val_acc: 0.8893\n",
      "Epoch 5/25\n",
      "45000/45000 [==============================] - 7s 147us/sample - loss: 0.2184 - acc: 0.9180 - val_loss: 0.3071 - val_acc: 0.8939\n",
      "Epoch 6/25\n",
      "45000/45000 [==============================] - 7s 150us/sample - loss: 0.1982 - acc: 0.9266 - val_loss: 0.2951 - val_acc: 0.8988\n",
      "Epoch 7/25\n",
      "45000/45000 [==============================] - 7s 148us/sample - loss: 0.1775 - acc: 0.9339 - val_loss: 0.3249 - val_acc: 0.8933\n",
      "Epoch 8/25\n",
      "45000/45000 [==============================] - 7s 150us/sample - loss: 0.1626 - acc: 0.9389 - val_loss: 0.3349 - val_acc: 0.8987\n",
      "Epoch 9/25\n",
      "45000/45000 [==============================] - 7s 149us/sample - loss: 0.1450 - acc: 0.9450 - val_loss: 0.3417 - val_acc: 0.8982\n",
      "Epoch 10/25\n",
      "45000/45000 [==============================] - 7s 152us/sample - loss: 0.1356 - acc: 0.9487 - val_loss: 0.3911 - val_acc: 0.8927\n",
      "Epoch 11/25\n",
      "45000/45000 [==============================] - 7s 147us/sample - loss: 0.1210 - acc: 0.9533 - val_loss: 0.3976 - val_acc: 0.8981\n",
      "Epoch 12/25\n",
      "45000/45000 [==============================] - 7s 153us/sample - loss: 0.1149 - acc: 0.9570 - val_loss: 0.4388 - val_acc: 0.8898\n",
      "Epoch 13/25\n",
      "45000/45000 [==============================] - 7s 149us/sample - loss: 0.1051 - acc: 0.9606 - val_loss: 0.4603 - val_acc: 0.8945\n",
      "Epoch 14/25\n",
      "45000/45000 [==============================] - 7s 152us/sample - loss: 0.0995 - acc: 0.9636 - val_loss: 0.4485 - val_acc: 0.8897\n",
      "Epoch 15/25\n",
      "45000/45000 [==============================] - 7s 152us/sample - loss: 0.0884 - acc: 0.9659 - val_loss: 0.5037 - val_acc: 0.8913\n",
      "Epoch 16/25\n",
      "45000/45000 [==============================] - 7s 145us/sample - loss: 0.0877 - acc: 0.9681 - val_loss: 0.4968 - val_acc: 0.8937\n",
      "Epoch 17/25\n",
      "45000/45000 [==============================] - 7s 152us/sample - loss: 0.0785 - acc: 0.9707 - val_loss: 0.5278 - val_acc: 0.8958\n",
      "Epoch 18/25\n",
      "45000/45000 [==============================] - 7s 148us/sample - loss: 0.0786 - acc: 0.9707 - val_loss: 0.5930 - val_acc: 0.8941\n",
      "Epoch 19/25\n",
      "45000/45000 [==============================] - 7s 149us/sample - loss: 0.0755 - acc: 0.9726 - val_loss: 0.6343 - val_acc: 0.8951\n",
      "Epoch 20/25\n",
      "45000/45000 [==============================] - 7s 148us/sample - loss: 0.0745 - acc: 0.9734 - val_loss: 0.5798 - val_acc: 0.8943\n",
      "Epoch 21/25\n",
      "45000/45000 [==============================] - 7s 153us/sample - loss: 0.0619 - acc: 0.9779 - val_loss: 0.6257 - val_acc: 0.8975\n",
      "Epoch 22/25\n",
      "45000/45000 [==============================] - 7s 148us/sample - loss: 0.0741 - acc: 0.9738 - val_loss: 0.6442 - val_acc: 0.8897\n",
      "Epoch 23/25\n",
      "45000/45000 [==============================] - 7s 149us/sample - loss: 0.0672 - acc: 0.9765 - val_loss: 0.6789 - val_acc: 0.8896\n",
      "Epoch 24/25\n",
      "45000/45000 [==============================] - 7s 149us/sample - loss: 0.0648 - acc: 0.9778 - val_loss: 0.7880 - val_acc: 0.8909\n",
      "Epoch 25/25\n",
      "45000/45000 [==============================] - 7s 151us/sample - loss: 0.0569 - acc: 0.9799 - val_loss: 0.7383 - val_acc: 0.8885\n"
     ]
    }
   ],
   "source": [
    "history = model.fit(train_X, train_Y, epochs=25, validation_split=0.25)"
   ]
  },
  {
   "cell_type": "code",
   "execution_count": 16,
   "metadata": {
    "colab": {
     "base_uri": "https://localhost:8080/",
     "height": 301
    },
    "colab_type": "code",
    "executionInfo": {
     "elapsed": 1637,
     "status": "ok",
     "timestamp": 1585151128055,
     "user": {
      "displayName": "매브레이커",
      "photoUrl": "https://lh3.googleusercontent.com/a-/AOh14Gi66GYCO2Oqpv5yoF59tlpghyzatCaxPzhpjop2=s64",
      "userId": "10762110144001691954"
     },
     "user_tz": -540
    },
    "id": "e7HKRvSuWYdY",
    "outputId": "c6c01936-5ae8-4d35-c2db-17bbc96cadd7"
   },
   "outputs": [
    {
     "data": {
      "image/png": "[encoded data removed]",
      "text/plain": [
       "<Figure size 864x288 with 2 Axes>"
      ]
     },
     "metadata": {
      "tags": []
     },
     "output_type": "display_data"
    },
    {
     "data": {
      "text/plain": [
       "[0.7898941616624594, 0.8835]"
      ]
     },
     "execution_count": 16,
     "metadata": {
      "tags": []
     },
     "output_type": "execute_result"
    }
   ],
   "source": [
    "plt.figure(figsize=(12, 4))\n",
    "\n",
    "plt.subplot(1, 2, 1)\n",
    "plt.plot(history.history['loss'], 'b-', label='loss')\n",
    "plt.plot(history.history['val_loss'], 'r--', label='val_loss')\n",
    "plt.xlabel('Epoch')\n",
    "plt.legend()\n",
    "\n",
    "plt.subplot(1, 2, 2)\n",
    "plt.plot(history.history['acc'], 'g-', label='accuracy')\n",
    "plt.plot(history.history['val_acc'], 'k--', label='val_accuracy')\n",
    "plt.xlabel('Epoch')\n",
    "plt.ylim(0.7, 1)\n",
    "plt.legend()\n",
    "\n",
    "plt.show()\n",
    "\n",
    "model.evaluate(test_X, test_Y, verbose=0)"
   ]
  }
 ],
 "metadata": {
  "accelerator": "GPU",
  "colab": {
   "collapsed_sections": [],
   "name": "convolutional-neural-network.ipynb",
   "provenance": []
  },
  "kernelspec": {
   "display_name": "Python 3",
   "language": "python",
   "name": "python3"
  },
  "language_info": {
   "codemirror_mode": {
    "name": "ipython",
    "version": 3
   },
   "file_extension": ".py",
   "mimetype": "text/x-python",
   "name": "python",
   "nbconvert_exporter": "python",
   "pygments_lexer": "ipython3",
   "version": "3.7.6"
  }
 },
 "nbformat": 4,
 "nbformat_minor": 1
}
